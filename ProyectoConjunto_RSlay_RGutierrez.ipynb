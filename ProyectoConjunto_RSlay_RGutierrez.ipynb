{
 "cells": [
  {
   "cell_type": "markdown",
   "metadata": {},
   "source": [
    "<img style=\"float: left; margin: 30px 15px 15px 15px;\" src=\"https://pngimage.net/wp-content/uploads/2018/06/logo-iteso-png-5.png\" width=\"300\" height=\"500\" /> \n",
    "    \n",
    "    \n",
    "### <font color='navy'> Simulación de procesos financieros. \n",
    "\n",
    "**Nombres:** Rodolfo Slay y Romina Cortés.\n",
    "\n",
    "**Fecha:** 27 de Agosto del 2020.\n",
    "\n",
    "**Expediente** : 715214 y .\n",
    "**Profesor:** Oscar David Jaramillo Zuluaga.\n",
    "\n",
    "# Tarea 1: Clase 2"
   ]
  },
  {
   "cell_type": "markdown",
   "metadata": {},
   "source": [
    "**Github:** [Repositorio de Proyecto Conjunto](https://github.com/RodoSlay/ProyectoConjunto_RSlay_RGutierrez)"
   ]
  },
  {
   "cell_type": "markdown",
   "metadata": {},
   "source": [
    "# Tarea 1- git\n",
    "Este archivo contiene las pautas necesarias para crear el archivo conjunto en Github, usando los notebooks de Jupyter:\n",
    "\n",
    "1.  El archivo debe realizarse en parejas y sólo uno de los dos debe crear en su cuenta de *\"Github\"* un repositorio con el nombre **ProyectoConjunto\\_APELLIDO1\\_APELLIDO2**, a esta persona la llamaremos (ESTUDIANTE 1 ). El APELLIDO se debe de escribir (Iniciales del nombre y primer apellido), por ejemplo si yo creara el archivo lo debería de nombrar *ProyectoConjunto\\_ODJaramillo*. \n",
    "1.  Posteriormente, desde la cuenta del (ESTUDIANTE 2) 'aquel que no creó el repositorio anterior' ingresar al perfil del ESTUDIANTE 1 y en el repositorio creado en el paso 1, realizar un \"fork\" de este repositorio en su perfil, y además realizar los pasos en Gitkraken para hacer dicho repositorio \"Remoto (REMOTE)\" VER DICHO PROCEDIMIENTO EN LA CLASE **Clase2\\_GitTurorial2**.\n",
    "1.  Luego de realizados los pasos 1 y 2, el ESTUDIANTE 1 y ESTUDIANTE 2, desde su computador realizan un *clone* del repositorio creado en el numeral 1 en la carpeta que cada quién haya asignado para el curso en su PC. \n",
    "1.  Luego desde Jupyter el ESTUDIANTE 1, crear un nuevo ``notebook`` en el repositorio del paso 3. \n",
    "1.  En este nuevo notebook el ESTUDIANTE 1 y ESTUDIANTE 2, deben realizar una presentación describiendo sus expectativas del curso y la transcipción de la Figura 1 y Figura 2 respectivamente, haciendo uso de la sintaxis Markdown. Recuerden definir unas celdas donde cada usuario modificará el cuaderno de python para evitar futuros conflictos. \n",
    "\n",
    "**RECOMENDACIÓN:ANTES DE EMPEZAR A REALIZAR MUCHAS MODIFICACIONES DEL NOTEBOOK PRIMERO REALICEN CAMBIOS PEQUEÑOS EN EL ARCHIVO EN CONJUNTO Y VERIFIQUEN SI TANTO EL ``ESTUDIANTE 1`` COMO EL ``ESTUDIANTE 2``  RECIBEN LAS ACTUALIZACIONES QUE REALIZAN CADA UNO EN EL PROYECTO PARA VERIFICAR QUE EL REMOTE ESTUVO BIEN CONFIGURADO.**\n",
    ">Les recomiendo ver los siguientes enlaces para ver distintas funciones para escribir en markdown.\n",
    ">    - [Creador de tablas online](https://www.tablesgenerator.com/markdown_tables)\n",
    ">    - [Sintáxis markdown](https://joplinapp.org/markdown/)\n",
    "\n",
    "6. Cuando ya se encuentre el proyecto conjunto con la información del ESTUDIANTE 1 y ESTUDIANTE 2, el ``ESTUDIANTE 2`` el que no fue el creador del repositorio en github, debe de realizar un `pull request` con las modificaciones realizadas a el `ESTUDIANTE 1` para que éste realice un merge a la rama `master`, con las moficaciones propuestas por el `ESTUDIANTE 2`, TAL Y CÓMO SE REALIZÓ EN CLASE. (Recuerden que los pull request se generan en *Gitkraken* y se administran los comentarios o cambios propuestos por su compañero desde *Github* ''**ver Clase1\\_GitTurorial** para aclaración de dudas'' donde se explica el crear *branch y pull request*)"
   ]
  },
  {
   "cell_type": "markdown",
   "metadata": {},
   "source": [
    "*Rodo:* Espero de este curso salir con <span style=\"color:green\"> habilidades similares o superiores </span> en programación a la que muchos de mis compañeros que ya cursaron este curso actualmente tienen. Espero poder: \n",
    "- Profundizar en métodos de simulación. \n",
    "- Entender el funcionamiento de manera que pueda utilizarlas en otras partes de mi vida. \n",
    "\n",
    "Creo tener muy buena habilidad comprehensiba, pero lo que más deseo es que pueda foguearme en la programación para encontrar **maneras óptimas de programar y estandarizadas.** Estas son mis expectativas del curso y a pesar de apenas llevar 2 semanas, creo que sí será el caso."
   ]
  },
  {
   "cell_type": "markdown",
   "metadata": {},
   "source": [
    "| $i$ |   $x$  |  $f(x)$  |\n",
    "|:-:|:----:|:------:|\n",
    "| 0 |  -1  | 0.3678 |\n",
    "| <span style=\"color:red\">1 | <span style=\"color:red\">-0.5 | <span style=\"color:red\">0.7788 </span>|\n",
    "| <span style=\"color:blue\">2 |   <span style=\"color:blue\">0  |    <span style=\"color:blue\">1 </span>  |\n",
    "| <span style=\"color:red\">3 |  <span style=\"color:red\">0.5 | <span style=\"color:red\">0.7788 </span> |\n",
    "| 4 |   1  | 0.3678 |\n",
    "    \n",
    "Cuadro 1: Tabla de valores de $ f(x) $"
   ]
  },
  {
   "cell_type": "markdown",
   "metadata": {},
   "source": [
    "\\begin{aligned}\n",
    "\\int_{-1}^{1}e^xdx &\\approx \\frac{0.5}{3}[f(-1)+f(1)+4(\\color{red}f\\color{red}(\\color{red}-\\color{red}0\\color{red}.\\color{red}5\\color{red}) \\color{red}+ \\color{red}f\\color{red}(\\color{red}0\\color{red}.\\color{red}5\\color{red})) + 2f\\color{blue}(\\color{blue}0\\color{blue})]\\\\\n",
    "&\\approx \\frac{0.5}{3}[0.3678+0.3678+4(\\color{red}0\\color{red}.\\color{red}7\\color{red}7\\color{red}8\\color{red}8 \\color{red}+ \\color{red}0\\color{red}.\\color{red}7\\color{red}7\\color{red}8\\color{red}8) + 2\\cdot \\color{blue}1]\\approx 1.4943\n",
    "\\end{aligned}"
   ]
  },
  {
   "cell_type": "markdown",
   "metadata": {},
   "source": [
    "A modo de verificación, se calculará por software, el valor del área para n = 100, un valor mucho más elevado al que se utilizó anteriormente. Si lo calculado previamente es correcto, se esperaría que sea próximo al valor presentado a continuación para ser una buena aproximación."
   ]
  },
  {
   "cell_type": "markdown",
   "metadata": {},
   "source": [
    "$$\\int_{-1}^{1}e^{-x^2}dx \\approx 1.4936$$"
   ]
  },
  {
   "cell_type": "markdown",
   "metadata": {},
   "source": [
    "# Estudiante 2\n",
    "\n",
    "## Presentación \n",
    "\n",
    "   Hola, mi nombre es Romina Gutiérrez Cortés, tengo **22** años y soy estudiante de la carrera Ingenieria Finanaciera, estoy cursando **8vo** semestre y realmente lo que espero lograr a lo largo de este curso es poder programar mejor, ya que es algo qu eme cuesta mucho trabajo. Pero sé que con esfuerzo lo podré lograr."
   ]
  },
  {
   "cell_type": "markdown",
   "metadata": {},
   "source": [
    "|        i        |  1  |  2  |  3  |  4  | 5 | 6 |  7 |\n",
    "|:---------------:|:---:|:---:|:---:|:---:|:-:|:-:|:--:|\n",
    "|    $$E_i(V)$$   |  12 |  10 |  24 |  12 | - | - |  - |\n",
    "| $$r_i(\\Omega)$$ | 0.1 | 0.5 | 0.2 | 0.5 | - | - |  - |\n",
    "| $$R_i(\\Omega)$$ |  25 |  40 |  16 |  20 | 9 | 4 | 20 |"
   ]
  },
  {
   "cell_type": "markdown",
   "metadata": {},
   "source": [
    " <font color='sky blue'> Kemma y Vorst (1990)  <font color='black'> muestran que las opciones asiáticas con media geométrica continua se pueden valuar con el mismo enfoque de las opciones *plain vanilla*; solo se deben cambiar los párametros de volatilidad $\\sigma$ por $\\sigma_a$, y el costo de acarreo $b$ por $b_a$.\n",
    "              \n",
    "<font color='black'>       De acuerdo con Kemma y Vorst, las fórmulas para valuar una opción de compra y una opción \n",
    "       \n",
    "<font color='black'> de venta son:"
   ]
  },
  {
   "cell_type": "markdown",
   "metadata": {},
   "source": [
    "### $c \\approx S_te^{(b_A-r)(T-t)}\\Phi (d_1) - Ke^{-r(T-t)}\\Phi(d_2),$                                                                                             "
   ]
  },
  {
   "cell_type": "markdown",
   "metadata": {},
   "source": [
    "### $p  \\approx Ke^{-r(T-t)}\\Phi(-d_2)-S_te^{(b_A-r)(T-t)}\\Phi (-d_1).$"
   ]
  },
  {
   "cell_type": "markdown",
   "metadata": {},
   "source": [
    "con $d_1$ y $d_2$ dados por:"
   ]
  },
  {
   "cell_type": "markdown",
   "metadata": {},
   "source": [
    "## $d_1 = \\frac{ln (S_t/K) + (b_A+ 1/2 \\sigma^2_a ) (T-t) }{ \\sigma \\sqrt {T-t}},$"
   ]
  },
  {
   "cell_type": "markdown",
   "metadata": {},
   "source": [
    "### $d_2 = d_1 - \\sigma_a \\sqrt {T-t}.$"
   ]
  },
  {
   "cell_type": "markdown",
   "metadata": {},
   "source": [
    "La función $\\Phi(d)$ es la función de distrubución de $E\\sim N(0, 1)$. La volatilidad ajustada\n",
    "\n",
    "es igual a:"
   ]
  },
  {
   "cell_type": "markdown",
   "metadata": {},
   "source": [
    "## $\\sigma_a = \\frac{\\sigma}{\\sqrt{3}},$"
   ]
  },
  {
   "cell_type": "markdown",
   "metadata": {},
   "source": [
    " mientras que el costo de acero ajustado es:"
   ]
  },
  {
   "cell_type": "markdown",
   "metadata": {},
   "source": [
    "### $b_A = \\frac{1}{2} (\\nu - \\frac{\\sigma^2}{6}).$"
   ]
  }
 ],
 "metadata": {
  "kernelspec": {
   "display_name": "Python 3",
   "language": "python",
   "name": "python3"
  },
  "language_info": {
   "codemirror_mode": {
    "name": "ipython",
    "version": 3
   },
   "file_extension": ".py",
   "mimetype": "text/x-python",
   "name": "python",
   "nbconvert_exporter": "python",
   "pygments_lexer": "ipython3",
   "version": "3.8.3"
  }
 },
 "nbformat": 4,
 "nbformat_minor": 2
}
