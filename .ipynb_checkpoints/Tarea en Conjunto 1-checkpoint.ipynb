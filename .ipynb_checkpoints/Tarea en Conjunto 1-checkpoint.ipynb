{
 "cells": [
  {
   "cell_type": "markdown",
   "metadata": {},
   "source": [
    "<img style=\"float: left; margin: 30px 15px 15px 15px;\" src=\"https://pngimage.net/wp-content/uploads/2018/06/logo-iteso-png-5.png\" width=\"300\" height=\"500\" /> \n",
    "    \n",
    "    \n",
    "### <font color='navy'> Simulación de procesos financieros. \n",
    "\n",
    "**Nombres:** Rodolfo Slay y Romina Cortés.\n",
    "\n",
    "**Fecha:** 27 de Agosto del 2020.\n",
    "\n",
    "**Expediente** : 715214 y .\n",
    "**Profesor:** Oscar David Jaramillo Zuluaga.\n",
    "\n",
    "# Tarea 1: Clase 2"
   ]
  },
  {
   "cell_type": "markdown",
   "metadata": {},
   "source": [
    "*Rodo:* Espero de este curso salir con <span style=\"color:green\"> habilidades similares o superiores </span> en programación a la que muchos de mis compañeros que ya cursaron este curso actualmente tienen. Espero poder: \n",
    "- Profundizar en métodos de simulación. \n",
    "- Entender el funcionamiento de manera que pueda utilizarlas en otras partes de mi vida. \n",
    "\n",
    "Creo tener muy buena habilidad comprehensiba, pero lo que más deseo es que pueda foguearme en la programación para encontrar **maneras óptimas de programar y estandarizadas.** Estas son mis expectativas del curso y a pesar de apenas llevar 2 semanas, creo que sí será el caso."
   ]
  },
  {
   "cell_type": "markdown",
   "metadata": {},
   "source": [
    "| $i$ |   $x$  |  $f(x)$  |\n",
    "|:-:|:----:|:------:|\n",
    "| 0 |  -1  | 0.3678 |\n",
    "| <span style=\"color:red\">1 | <span style=\"color:red\">-0.5 | <span style=\"color:red\">0.7788 </span>|\n",
    "| <span style=\"color:blue\">2 |   <span style=\"color:blue\">0  |    <span style=\"color:blue\">1 </span>  |\n",
    "| <span style=\"color:red\">3 |  <span style=\"color:red\">0.5 | <span style=\"color:red\">0.7788 </span> |\n",
    "| 4 |   1  | 0.3678 |\n",
    "    \n",
    "Cuadro 1: Tabla de valores de $ f(x) $"
   ]
  },
  {
   "cell_type": "markdown",
   "metadata": {},
   "source": [
    "\\begin{aligned}\n",
    "\\int_{-1}^{1}e^xdx &\\approx \\frac{0.5}{3}[f(-1)+f(1)+4(\\color{red}f\\color{red}(\\color{red}-\\color{red}0\\color{red}.\\color{red}5\\color{red}) \\color{red}+ \\color{red}f\\color{red}(\\color{red}0\\color{red}.\\color{red}5\\color{red})) + 2f\\color{blue}(\\color{blue}0\\color{blue})]\\\\\n",
    "&\\approx \\frac{0.5}{3}[0.3678+0.3678+4(\\color{red}0\\color{red}.\\color{red}7\\color{red}7\\color{red}8\\color{red}8 \\color{red}+ \\color{red}0\\color{red}.\\color{red}7\\color{red}7\\color{red}8\\color{red}8) + 2\\cdot \\color{blue}1]\\approx 1.4943\n",
    "\\end{aligned}"
   ]
  },
  {
   "cell_type": "markdown",
   "metadata": {},
   "source": [
    "A modo de verificación, se calculará por software, el valor del área para n = 100, un valor mucho más elevado al que se utilizó anteriormente. Si lo calculado previamente es correcto, se esperaría que sea próximo al valor presentado a continuación para ser una buena aproximación."
   ]
  },
  {
   "cell_type": "markdown",
   "metadata": {},
   "source": [
    "$$\\int_{-1}^{1}e^{-x^2}dx \\approx 1.4936$$"
   ]
  },
  {
   "cell_type": "code",
   "execution_count": null,
   "metadata": {},
   "outputs": [],
   "source": [
    "# Romina"
   ]
  },
  {
   "cell_type": "code",
   "execution_count": null,
   "metadata": {},
   "outputs": [],
   "source": []
  }
 ],
 "metadata": {
  "kernelspec": {
   "display_name": "Python 3",
   "language": "python",
   "name": "python3"
  },
  "language_info": {
   "codemirror_mode": {
    "name": "ipython",
    "version": 3
   },
   "file_extension": ".py",
   "mimetype": "text/x-python",
   "name": "python",
   "nbconvert_exporter": "python",
   "pygments_lexer": "ipython3",
   "version": "3.6.5"
  }
 },
 "nbformat": 4,
 "nbformat_minor": 2
}
